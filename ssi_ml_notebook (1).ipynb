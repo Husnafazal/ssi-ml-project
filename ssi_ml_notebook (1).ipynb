{
  "nbformat": 4,
  "nbformat_minor": 0,
  "metadata": {
    "colab": {
      "provenance": []
    },
    "kernelspec": {
      "name": "python3",
      "display_name": "Python 3"
    },
    "language_info": {
      "name": "python"
    }
  },
  "cells": [
    {
      "cell_type": "markdown",
      "source": [
        "# Magnitude of Surgical Site Infections (SSIs) and Associated Factors among Post-Operative Patients at Myungsung Christian Medical Centre\n",
        "\n",
        "_By Husna Fazal Ahmed_\n",
        "\n",
        "### Introduction\n",
        "Surgical Site Infections (SSIs) are a significant cause of postoperative complications, especially in resource-limited countries. This project aims to predict the likelihood of SSIs using machine learning models and associated factors such as age, comorbidities, and surgery type.\n"
      ],
      "metadata": {
        "id": "zaRfC32peBNI"
      }
    },
    {
      "cell_type": "code",
      "source": [
        "pip install seaborn"
      ],
      "metadata": {
        "colab": {
          "base_uri": "https://localhost:8080/"
        },
        "id": "kq8I-tIGekqx",
        "outputId": "cbd1e851-744a-4e03-86fa-f2878b0c6506"
      },
      "execution_count": 18,
      "outputs": [
        {
          "output_type": "stream",
          "name": "stdout",
          "text": [
            "Requirement already satisfied: seaborn in /usr/local/lib/python3.10/dist-packages (0.13.1)\n",
            "Requirement already satisfied: numpy!=1.24.0,>=1.20 in /usr/local/lib/python3.10/dist-packages (from seaborn) (1.26.4)\n",
            "Requirement already satisfied: pandas>=1.2 in /usr/local/lib/python3.10/dist-packages (from seaborn) (2.2.2)\n",
            "Requirement already satisfied: matplotlib!=3.6.1,>=3.4 in /usr/local/lib/python3.10/dist-packages (from seaborn) (3.7.1)\n",
            "Requirement already satisfied: contourpy>=1.0.1 in /usr/local/lib/python3.10/dist-packages (from matplotlib!=3.6.1,>=3.4->seaborn) (1.3.0)\n",
            "Requirement already satisfied: cycler>=0.10 in /usr/local/lib/python3.10/dist-packages (from matplotlib!=3.6.1,>=3.4->seaborn) (0.12.1)\n",
            "Requirement already satisfied: fonttools>=4.22.0 in /usr/local/lib/python3.10/dist-packages (from matplotlib!=3.6.1,>=3.4->seaborn) (4.54.1)\n",
            "Requirement already satisfied: kiwisolver>=1.0.1 in /usr/local/lib/python3.10/dist-packages (from matplotlib!=3.6.1,>=3.4->seaborn) (1.4.7)\n",
            "Requirement already satisfied: packaging>=20.0 in /usr/local/lib/python3.10/dist-packages (from matplotlib!=3.6.1,>=3.4->seaborn) (24.1)\n",
            "Requirement already satisfied: pillow>=6.2.0 in /usr/local/lib/python3.10/dist-packages (from matplotlib!=3.6.1,>=3.4->seaborn) (10.4.0)\n",
            "Requirement already satisfied: pyparsing>=2.3.1 in /usr/local/lib/python3.10/dist-packages (from matplotlib!=3.6.1,>=3.4->seaborn) (3.1.4)\n",
            "Requirement already satisfied: python-dateutil>=2.7 in /usr/local/lib/python3.10/dist-packages (from matplotlib!=3.6.1,>=3.4->seaborn) (2.8.2)\n",
            "Requirement already satisfied: pytz>=2020.1 in /usr/local/lib/python3.10/dist-packages (from pandas>=1.2->seaborn) (2024.2)\n",
            "Requirement already satisfied: tzdata>=2022.7 in /usr/local/lib/python3.10/dist-packages (from pandas>=1.2->seaborn) (2024.2)\n",
            "Requirement already satisfied: six>=1.5 in /usr/local/lib/python3.10/dist-packages (from python-dateutil>=2.7->matplotlib!=3.6.1,>=3.4->seaborn) (1.16.0)\n"
          ]
        }
      ]
    },
    {
      "cell_type": "markdown",
      "source": [
        "1. Import Necessary Libraries"
      ],
      "metadata": {
        "id": "wPwgh7fTBJPX"
      }
    },
    {
      "cell_type": "code",
      "source": [
        "# Import necessary libraries\n",
        "import pandas as pd\n",
        "import numpy as np\n",
        "import joblib  # Import joblib for saving/loading models\n",
        "import matplotlib.pyplot as plt\n",
        "from sklearn.model_selection import train_test_split\n",
        "from sklearn.preprocessing import OneHotEncoder, StandardScaler\n",
        "from sklearn.linear_model import LogisticRegression\n",
        "from sklearn.pipeline import Pipeline\n",
        "from sklearn.feature_selection import RFECV\n",
        "from sklearn.metrics import accuracy_score, confusion_matrix, classification_report\n",
        "from tensorflow.keras.models import Sequential, load_model\n",
        "from tensorflow.keras.layers import Dense\n",
        "from tensorflow.keras.optimizers import SGD, Adam, RMSprop\n",
        "import seaborn as sns\n",
        "\n",
        "\n"
      ],
      "metadata": {
        "id": "r4RvGFdbA6MY"
      },
      "execution_count": 20,
      "outputs": []
    },
    {
      "cell_type": "markdown",
      "source": [
        "2. Load and Preprocess the Dataset"
      ],
      "metadata": {
        "id": "GX7kjyZxBMV0"
      }
    },
    {
      "cell_type": "code",
      "source": [
        "# Load the dataset\n",
        "ssi_data = pd.read_csv('/content/data/SSI Data 2.csv')\n",
        "\n",
        "# Display the first few rows of the dataset\n",
        "print(ssi_data.head())\n",
        "\n",
        "# Identify columns that are of object type (string columns)\n",
        "object_columns = ssi_data.select_dtypes(include=['object']).columns\n",
        "\n",
        "# One-hot encode the object columns\n",
        "for col in object_columns:\n",
        "    encoder = OneHotEncoder(sparse_output=False)\n",
        "    encoded_data = encoder.fit_transform(ssi_data[[col]])\n",
        "    encoded_df = pd.DataFrame(encoded_data, columns=encoder.get_feature_names_out([col]))\n",
        "    ssi_data = ssi_data.drop(col, axis=1).reset_index(drop=True)\n",
        "    ssi_data = pd.concat([ssi_data, encoded_df], axis=1)\n",
        "\n",
        "# Replace non-numeric values with NaN and fill with 0\n",
        "ssi_data = ssi_data.replace(' ', np.nan).fillna(0)\n",
        "\n",
        "# Define features (X) and target (y)\n",
        "X = ssi_data.drop('SSI', axis=1)  # Replace 'SSI' with the actual target column name\n",
        "y = ssi_data['SSI']\n",
        "\n",
        "# Split the dataset into training and testing sets (80% training, 20% testing)\n",
        "X_train, X_test, y_train, y_test = train_test_split(X, y, test_size=0.2, random_state=42)\n"
      ],
      "metadata": {
        "colab": {
          "base_uri": "https://localhost:8080/"
        },
        "id": "FqXjjGUeBPJe",
        "outputId": "0c97f509-11c8-4a4c-b0dc-9aa1b15dbf57"
      },
      "execution_count": 2,
      "outputs": [
        {
          "output_type": "stream",
          "name": "stdout",
          "text": [
            "       ID  Sex   Age               Dx Lab    Hg      WBC     Plt  comorbidity  \\\n",
            "0  411773    1  58.0  Inguinal hernia      18.2   4200.0   40000            2   \n",
            "1  437928    2  34.0   Cholelithiasis      13.8   6000.0  250000            2   \n",
            "2  442161    1  50.0   Cholelithiasis      16.2   9000.0  241000            1   \n",
            "3  441665    1  57.0   Cholelithiasis      13.0  10800.0  188000            2   \n",
            "4  419968    1  76.0   Cholelithiasis      13.5  10900.0  154000            1   \n",
            "\n",
            "   HTN  ...  typee  dosee  surgerytype specific  Duration  hospitalstay  ICU  \\\n",
            "0    2  ...                          1       47         2             3    2   \n",
            "1    2  ...                          1        2         1             3    2   \n",
            "2    1  ...                          1        2         2             5    2   \n",
            "3    2  ...                          1        2         2             4    2   \n",
            "4    1  ...                          1        2         2             2    2   \n",
            "\n",
            "  transfusion approach SSI  \n",
            "0           2        1   2  \n",
            "1           2        1   2  \n",
            "2           2        1   2  \n",
            "3           2        1   2  \n",
            "4           2        1   2  \n",
            "\n",
            "[5 rows x 29 columns]\n"
          ]
        }
      ]
    },
    {
      "cell_type": "code",
      "source": [
        "# Visualize the distribution of the target variable\n",
        "plt.figure(figsize=(8, 5))\n",
        "y.value_counts().plot(kind='bar')\n",
        "plt.title('Distribution of Surgical Site Infections (SSI)')\n",
        "plt.xlabel('SSI')\n",
        "plt.ylabel('Count')\n",
        "plt.xticks(rotation=0)\n",
        "plt.show()\n",
        "\n",
        "# Visualize feature correlations\n",
        "plt.figure(figsize=(12, 10))\n",
        "correlation_matrix = ssi_data.corr()\n",
        "plt.title('Correlation Matrix')\n",
        "sns.heatmap(correlation_matrix, annot=True, cmap='coolwarm')\n",
        "plt.show()\n"
      ],
      "metadata": {
        "colab": {
          "base_uri": "https://localhost:8080/",
          "height": 487
        },
        "id": "B339i-ueINtj",
        "outputId": "44b0bed7-75e2-43d0-9489-683a34356f46"
      },
      "execution_count": null,
      "outputs": [
        {
          "output_type": "display_data",
          "data": {
            "text/plain": [
              "<Figure size 800x500 with 1 Axes>"
            ],
            "image/png": "[encoded data removed]"
          },
          "metadata": {}
        }
      ]
    },
    {
      "cell_type": "markdown",
      "source": [
        "3. Define and Train the Simple Neural Network Model"
      ],
      "metadata": {
        "id": "QTwYOjuWClfP"
      }
    },
    {
      "cell_type": "code",
      "source": [
        "# Define the Simple Neural Network model\n",
        "model = Sequential([\n",
        "    Dense(64, activation='relu', input_shape=(X_train.shape[1],)),\n",
        "    Dense(1, activation='sigmoid')  # Output layer for binary classification\n",
        "])\n",
        "\n",
        "# Compile the model using Adam optimizer\n",
        "model.compile(optimizer=Adam(learning_rate=0.001),\n",
        "              loss='binary_crossentropy',\n",
        "              metrics=['accuracy'])\n",
        "\n",
        "# Train the model\n",
        "history = model.fit(X_train, y_train, epochs=50, batch_size=32, validation_split=0.2, verbose=1)\n"
      ],
      "metadata": {
        "colab": {
          "base_uri": "https://localhost:8080/"
        },
        "id": "mSzlRLlbCnd3",
        "outputId": "73ab3365-04c8-4c75-d454-bc4182889d4f"
      },
      "execution_count": 6,
      "outputs": [
        {
          "output_type": "stream",
          "name": "stderr",
          "text": [
            "/usr/local/lib/python3.10/dist-packages/keras/src/layers/core/dense.py:87: UserWarning: Do not pass an `input_shape`/`input_dim` argument to a layer. When using Sequential models, prefer using an `Input(shape)` object as the first layer in the model instead.\n",
            "  super().__init__(activity_regularizer=activity_regularizer, **kwargs)\n"
          ]
        },
        {
          "output_type": "stream",
          "name": "stdout",
          "text": [
            "Epoch 1/50\n",
            "\u001b[1m3/3\u001b[0m \u001b[32m━━━━━━━━━━━━━━━━━━━━\u001b[0m\u001b[37m\u001b[0m \u001b[1m2s\u001b[0m 105ms/step - accuracy: 0.0000e+00 - loss: 41628.5742 - val_accuracy: 0.0435 - val_loss: 19291.7441\n",
            "Epoch 2/50\n",
            "\u001b[1m3/3\u001b[0m \u001b[32m━━━━━━━━━━━━━━━━━━━━\u001b[0m\u001b[37m\u001b[0m \u001b[1m0s\u001b[0m 17ms/step - accuracy: 0.0000e+00 - loss: 9290.8936 - val_accuracy: 0.0435 - val_loss: -6914.8711\n",
            "Epoch 3/50\n",
            "\u001b[1m3/3\u001b[0m \u001b[32m━━━━━━━━━━━━━━━━━━━━\u001b[0m\u001b[37m\u001b[0m \u001b[1m0s\u001b[0m 16ms/step - accuracy: 0.0280 - loss: -12282.8262 - val_accuracy: 0.0435 - val_loss: -22917.9434\n",
            "Epoch 4/50\n",
            "\u001b[1m3/3\u001b[0m \u001b[32m━━━━━━━━━━━━━━━━━━━━\u001b[0m\u001b[37m\u001b[0m \u001b[1m0s\u001b[0m 16ms/step - accuracy: 0.0280 - loss: -27005.1562 - val_accuracy: 0.0435 - val_loss: -37794.8047\n",
            "Epoch 5/50\n",
            "\u001b[1m3/3\u001b[0m \u001b[32m━━━━━━━━━━━━━━━━━━━━\u001b[0m\u001b[37m\u001b[0m \u001b[1m0s\u001b[0m 17ms/step - accuracy: 0.0319 - loss: -41057.6328 - val_accuracy: 0.0435 - val_loss: -52414.8711\n",
            "Epoch 6/50\n",
            "\u001b[1m3/3\u001b[0m \u001b[32m━━━━━━━━━━━━━━━━━━━━\u001b[0m\u001b[37m\u001b[0m \u001b[1m0s\u001b[0m 17ms/step - accuracy: 0.0319 - loss: -55370.6641 - val_accuracy: 0.0435 - val_loss: -67012.2344\n",
            "Epoch 7/50\n",
            "\u001b[1m3/3\u001b[0m \u001b[32m━━━━━━━━━━━━━━━━━━━━\u001b[0m\u001b[37m\u001b[0m \u001b[1m0s\u001b[0m 16ms/step - accuracy: 0.0358 - loss: -69367.5312 - val_accuracy: 0.0435 - val_loss: -81756.1250\n",
            "Epoch 8/50\n",
            "\u001b[1m3/3\u001b[0m \u001b[32m━━━━━━━━━━━━━━━━━━━━\u001b[0m\u001b[37m\u001b[0m \u001b[1m0s\u001b[0m 18ms/step - accuracy: 0.0163 - loss: -85940.8672 - val_accuracy: 0.0435 - val_loss: -96815.0781\n",
            "Epoch 9/50\n",
            "\u001b[1m3/3\u001b[0m \u001b[32m━━━━━━━━━━━━━━━━━━━━\u001b[0m\u001b[37m\u001b[0m \u001b[1m0s\u001b[0m 16ms/step - accuracy: 0.0202 - loss: -100712.9609 - val_accuracy: 0.0435 - val_loss: -112169.7188\n",
            "Epoch 10/50\n",
            "\u001b[1m3/3\u001b[0m \u001b[32m━━━━━━━━━━━━━━━━━━━━\u001b[0m\u001b[37m\u001b[0m \u001b[1m0s\u001b[0m 16ms/step - accuracy: 0.0397 - loss: -114485.5469 - val_accuracy: 0.0435 - val_loss: -127906.9922\n",
            "Epoch 11/50\n",
            "\u001b[1m3/3\u001b[0m \u001b[32m━━━━━━━━━━━━━━━━━━━━\u001b[0m\u001b[37m\u001b[0m \u001b[1m0s\u001b[0m 17ms/step - accuracy: 0.0241 - loss: -131145.6875 - val_accuracy: 0.0435 - val_loss: -144022.8906\n",
            "Epoch 12/50\n",
            "\u001b[1m3/3\u001b[0m \u001b[32m━━━━━━━━━━━━━━━━━━━━\u001b[0m\u001b[37m\u001b[0m \u001b[1m0s\u001b[0m 18ms/step - accuracy: 0.0436 - loss: -144657.6562 - val_accuracy: 0.0435 - val_loss: -160505.4844\n",
            "Epoch 13/50\n",
            "\u001b[1m3/3\u001b[0m \u001b[32m━━━━━━━━━━━━━━━━━━━━\u001b[0m\u001b[37m\u001b[0m \u001b[1m0s\u001b[0m 18ms/step - accuracy: 0.0319 - loss: -159441.0625 - val_accuracy: 0.0435 - val_loss: -177390.7656\n",
            "Epoch 14/50\n",
            "\u001b[1m3/3\u001b[0m \u001b[32m━━━━━━━━━━━━━━━━━━━━\u001b[0m\u001b[37m\u001b[0m \u001b[1m0s\u001b[0m 16ms/step - accuracy: 0.0202 - loss: -179680.7812 - val_accuracy: 0.0435 - val_loss: -194776.7969\n",
            "Epoch 15/50\n",
            "\u001b[1m3/3\u001b[0m \u001b[32m━━━━━━━━━━━━━━━━━━━━\u001b[0m\u001b[37m\u001b[0m \u001b[1m0s\u001b[0m 16ms/step - accuracy: 0.0436 - loss: -190548.8125 - val_accuracy: 0.0435 - val_loss: -212566.0938\n",
            "Epoch 16/50\n",
            "\u001b[1m3/3\u001b[0m \u001b[32m━━━━━━━━━━━━━━━━━━━━\u001b[0m\u001b[37m\u001b[0m \u001b[1m0s\u001b[0m 17ms/step - accuracy: 0.0515 - loss: -208737.1094 - val_accuracy: 0.0435 - val_loss: -230869.2812\n",
            "Epoch 17/50\n",
            "\u001b[1m3/3\u001b[0m \u001b[32m━━━━━━━━━━━━━━━━━━━━\u001b[0m\u001b[37m\u001b[0m \u001b[1m0s\u001b[0m 17ms/step - accuracy: 0.0397 - loss: -230027.9844 - val_accuracy: 0.0435 - val_loss: -249704.4062\n",
            "Epoch 18/50\n",
            "\u001b[1m3/3\u001b[0m \u001b[32m━━━━━━━━━━━━━━━━━━━━\u001b[0m\u001b[37m\u001b[0m \u001b[1m0s\u001b[0m 20ms/step - accuracy: 0.0397 - loss: -244666.7500 - val_accuracy: 0.0435 - val_loss: -268951.6875\n",
            "Epoch 19/50\n",
            "\u001b[1m3/3\u001b[0m \u001b[32m━━━━━━━━━━━━━━━━━━━━\u001b[0m\u001b[37m\u001b[0m \u001b[1m0s\u001b[0m 20ms/step - accuracy: 0.0280 - loss: -270195.9375 - val_accuracy: 0.0435 - val_loss: -288735.6562\n",
            "Epoch 20/50\n",
            "\u001b[1m3/3\u001b[0m \u001b[32m━━━━━━━━━━━━━━━━━━━━\u001b[0m\u001b[37m\u001b[0m \u001b[1m0s\u001b[0m 17ms/step - accuracy: 0.0202 - loss: -287931.2812 - val_accuracy: 0.0435 - val_loss: -308922.0312\n",
            "Epoch 21/50\n",
            "\u001b[1m3/3\u001b[0m \u001b[32m━━━━━━━━━━━━━━━━━━━━\u001b[0m\u001b[37m\u001b[0m \u001b[1m0s\u001b[0m 16ms/step - accuracy: 0.0319 - loss: -303583.9375 - val_accuracy: 0.0435 - val_loss: -329517.8125\n",
            "Epoch 22/50\n",
            "\u001b[1m3/3\u001b[0m \u001b[32m━━━━━━━━━━━━━━━━━━━━\u001b[0m\u001b[37m\u001b[0m \u001b[1m0s\u001b[0m 16ms/step - accuracy: 0.0241 - loss: -331075.9375 - val_accuracy: 0.0435 - val_loss: -350715.6875\n",
            "Epoch 23/50\n",
            "\u001b[1m3/3\u001b[0m \u001b[32m━━━━━━━━━━━━━━━━━━━━\u001b[0m\u001b[37m\u001b[0m \u001b[1m0s\u001b[0m 16ms/step - accuracy: 0.0358 - loss: -344279.1250 - val_accuracy: 0.0435 - val_loss: -372363.2500\n",
            "Epoch 24/50\n",
            "\u001b[1m3/3\u001b[0m \u001b[32m━━━━━━━━━━━━━━━━━━━━\u001b[0m\u001b[37m\u001b[0m \u001b[1m0s\u001b[0m 17ms/step - accuracy: 0.0397 - loss: -359418.5625 - val_accuracy: 0.0435 - val_loss: -394574.6562\n",
            "Epoch 25/50\n",
            "\u001b[1m3/3\u001b[0m \u001b[32m━━━━━━━━━━━━━━━━━━━━\u001b[0m\u001b[37m\u001b[0m \u001b[1m0s\u001b[0m 16ms/step - accuracy: 0.0358 - loss: -388300.9062 - val_accuracy: 0.0435 - val_loss: -417441.4375\n",
            "Epoch 26/50\n",
            "\u001b[1m3/3\u001b[0m \u001b[32m━━━━━━━━━━━━━━━━━━━━\u001b[0m\u001b[37m\u001b[0m \u001b[1m0s\u001b[0m 16ms/step - accuracy: 0.0241 - loss: -417039.4375 - val_accuracy: 0.0435 - val_loss: -440951.9062\n",
            "Epoch 27/50\n",
            "\u001b[1m3/3\u001b[0m \u001b[32m━━━━━━━━━━━━━━━━━━━━\u001b[0m\u001b[37m\u001b[0m \u001b[1m0s\u001b[0m 17ms/step - accuracy: 0.0358 - loss: -432365.6875 - val_accuracy: 0.0435 - val_loss: -465027.3125\n",
            "Epoch 28/50\n",
            "\u001b[1m3/3\u001b[0m \u001b[32m━━━━━━━━━━━━━━━━━━━━\u001b[0m\u001b[37m\u001b[0m \u001b[1m0s\u001b[0m 16ms/step - accuracy: 0.0319 - loss: -462672.0000 - val_accuracy: 0.0435 - val_loss: -489739.4375\n",
            "Epoch 29/50\n",
            "\u001b[1m3/3\u001b[0m \u001b[32m━━━━━━━━━━━━━━━━━━━━\u001b[0m\u001b[37m\u001b[0m \u001b[1m0s\u001b[0m 26ms/step - accuracy: 0.0280 - loss: -479933.1875 - val_accuracy: 0.0435 - val_loss: -515032.4062\n",
            "Epoch 30/50\n",
            "\u001b[1m3/3\u001b[0m \u001b[32m━━━━━━━━━━━━━━━━━━━━\u001b[0m\u001b[37m\u001b[0m \u001b[1m0s\u001b[0m 20ms/step - accuracy: 0.0319 - loss: -507080.6875 - val_accuracy: 0.0435 - val_loss: -540966.4375\n",
            "Epoch 31/50\n",
            "\u001b[1m3/3\u001b[0m \u001b[32m━━━━━━━━━━━━━━━━━━━━\u001b[0m\u001b[37m\u001b[0m \u001b[1m0s\u001b[0m 18ms/step - accuracy: 0.0436 - loss: -527561.2500 - val_accuracy: 0.0435 - val_loss: -567521.6250\n",
            "Epoch 32/50\n",
            "\u001b[1m3/3\u001b[0m \u001b[32m━━━━━━━━━━━━━━━━━━━━\u001b[0m\u001b[37m\u001b[0m \u001b[1m0s\u001b[0m 16ms/step - accuracy: 0.0358 - loss: -550065.7500 - val_accuracy: 0.0435 - val_loss: -594615.7500\n",
            "Epoch 33/50\n",
            "\u001b[1m3/3\u001b[0m \u001b[32m━━━━━━━━━━━━━━━━━━━━\u001b[0m\u001b[37m\u001b[0m \u001b[1m0s\u001b[0m 15ms/step - accuracy: 0.0397 - loss: -581478.0625 - val_accuracy: 0.0435 - val_loss: -622359.0625\n",
            "Epoch 34/50\n",
            "\u001b[1m3/3\u001b[0m \u001b[32m━━━━━━━━━━━━━━━━━━━━\u001b[0m\u001b[37m\u001b[0m \u001b[1m0s\u001b[0m 16ms/step - accuracy: 0.0436 - loss: -605244.4375 - val_accuracy: 0.0435 - val_loss: -650706.1875\n",
            "Epoch 35/50\n",
            "\u001b[1m3/3\u001b[0m \u001b[32m━━━━━━━━━━━━━━━━━━━━\u001b[0m\u001b[37m\u001b[0m \u001b[1m0s\u001b[0m 16ms/step - accuracy: 0.0241 - loss: -645140.7500 - val_accuracy: 0.0435 - val_loss: -679810.6250\n",
            "Epoch 36/50\n",
            "\u001b[1m3/3\u001b[0m \u001b[32m━━━━━━━━━━━━━━━━━━━━\u001b[0m\u001b[37m\u001b[0m \u001b[1m0s\u001b[0m 22ms/step - accuracy: 0.0515 - loss: -660242.1250 - val_accuracy: 0.0435 - val_loss: -709549.1250\n",
            "Epoch 37/50\n",
            "\u001b[1m3/3\u001b[0m \u001b[32m━━━━━━━━━━━━━━━━━━━━\u001b[0m\u001b[37m\u001b[0m \u001b[1m0s\u001b[0m 16ms/step - accuracy: 0.0202 - loss: -709277.9375 - val_accuracy: 0.0435 - val_loss: -740142.0000\n",
            "Epoch 38/50\n",
            "\u001b[1m3/3\u001b[0m \u001b[32m━━━━━━━━━━━━━━━━━━━━\u001b[0m\u001b[37m\u001b[0m \u001b[1m0s\u001b[0m 16ms/step - accuracy: 0.0319 - loss: -730872.7500 - val_accuracy: 0.0435 - val_loss: -771379.7500\n",
            "Epoch 39/50\n",
            "\u001b[1m3/3\u001b[0m \u001b[32m━━━━━━━━━━━━━━━━━━━━\u001b[0m\u001b[37m\u001b[0m \u001b[1m0s\u001b[0m 16ms/step - accuracy: 0.0515 - loss: -742377.3750 - val_accuracy: 0.0435 - val_loss: -803310.0000\n",
            "Epoch 40/50\n",
            "\u001b[1m3/3\u001b[0m \u001b[32m━━━━━━━━━━━━━━━━━━━━\u001b[0m\u001b[37m\u001b[0m \u001b[1m0s\u001b[0m 16ms/step - accuracy: 0.0202 - loss: -811420.3750 - val_accuracy: 0.0435 - val_loss: -836246.2500\n",
            "Epoch 41/50\n",
            "\u001b[1m3/3\u001b[0m \u001b[32m━━━━━━━━━━━━━━━━━━━━\u001b[0m\u001b[37m\u001b[0m \u001b[1m0s\u001b[0m 16ms/step - accuracy: 0.0319 - loss: -817615.7500 - val_accuracy: 0.0435 - val_loss: -869801.0625\n",
            "Epoch 42/50\n",
            "\u001b[1m3/3\u001b[0m \u001b[32m━━━━━━━━━━━━━━━━━━━━\u001b[0m\u001b[37m\u001b[0m \u001b[1m0s\u001b[0m 18ms/step - accuracy: 0.0358 - loss: -847341.0625 - val_accuracy: 0.0435 - val_loss: -904169.5625\n",
            "Epoch 43/50\n",
            "\u001b[1m3/3\u001b[0m \u001b[32m━━━━━━━━━━━━━━━━━━━━\u001b[0m\u001b[37m\u001b[0m \u001b[1m0s\u001b[0m 17ms/step - accuracy: 0.0436 - loss: -890003.2500 - val_accuracy: 0.0435 - val_loss: -939423.9375\n",
            "Epoch 44/50\n",
            "\u001b[1m3/3\u001b[0m \u001b[32m━━━━━━━━━━━━━━━━━━━━\u001b[0m\u001b[37m\u001b[0m \u001b[1m0s\u001b[0m 19ms/step - accuracy: 0.0202 - loss: -942842.8750 - val_accuracy: 0.0435 - val_loss: -975592.0000\n",
            "Epoch 45/50\n",
            "\u001b[1m3/3\u001b[0m \u001b[32m━━━━━━━━━━━━━━━━━━━━\u001b[0m\u001b[37m\u001b[0m \u001b[1m0s\u001b[0m 19ms/step - accuracy: 0.0358 - loss: -952200.0000 - val_accuracy: 0.0435 - val_loss: -1012398.8125\n",
            "Epoch 46/50\n",
            "\u001b[1m3/3\u001b[0m \u001b[32m━━━━━━━━━━━━━━━━━━━━\u001b[0m\u001b[37m\u001b[0m \u001b[1m0s\u001b[0m 18ms/step - accuracy: 0.0241 - loss: -1003351.7500 - val_accuracy: 0.0435 - val_loss: -1050139.3750\n",
            "Epoch 47/50\n",
            "\u001b[1m3/3\u001b[0m \u001b[32m━━━━━━━━━━━━━━━━━━━━\u001b[0m\u001b[37m\u001b[0m \u001b[1m0s\u001b[0m 16ms/step - accuracy: 0.0280 - loss: -1022994.7500 - val_accuracy: 0.0435 - val_loss: -1088606.2500\n",
            "Epoch 48/50\n",
            "\u001b[1m3/3\u001b[0m \u001b[32m━━━━━━━━━━━━━━━━━━━━\u001b[0m\u001b[37m\u001b[0m \u001b[1m0s\u001b[0m 18ms/step - accuracy: 0.0163 - loss: -1076990.2500 - val_accuracy: 0.0435 - val_loss: -1128044.8750\n",
            "Epoch 49/50\n",
            "\u001b[1m3/3\u001b[0m \u001b[32m━━━━━━━━━━━━━━━━━━━━\u001b[0m\u001b[37m\u001b[0m \u001b[1m0s\u001b[0m 16ms/step - accuracy: 0.0319 - loss: -1110243.2500 - val_accuracy: 0.0435 - val_loss: -1168243.0000\n",
            "Epoch 50/50\n",
            "\u001b[1m3/3\u001b[0m \u001b[32m━━━━━━━━━━━━━━━━━━━━\u001b[0m\u001b[37m\u001b[0m \u001b[1m0s\u001b[0m 28ms/step - accuracy: 0.0436 - loss: -1146372.7500 - val_accuracy: 0.0435 - val_loss: -1209266.7500\n"
          ]
        }
      ]
    },
    {
      "cell_type": "markdown",
      "source": [
        "4. Evaluate the Model and prediction"
      ],
      "metadata": {
        "id": "aJ-UifgXC3Bk"
      }
    },
    {
      "cell_type": "code",
      "source": [
        "# Evaluate the model on the test set\n",
        "test_loss, test_accuracy = model.evaluate(X_test, y_test, verbose=1)\n",
        "print(f\"Test Accuracy: {test_accuracy}\")\n",
        "# Make predictions\n",
        "y_pred = model.predict(X_test)\n",
        "y_pred = np.round(y_pred).astype(int)  # Convert probabilities to binary predictions\n",
        "\n",
        "# Generate confusion matrix and classification report\n",
        "print(\"Confusion Matrix:\")\n",
        "print(confusion_matrix(y_test, y_pred))\n",
        "\n",
        "print(\"\\nClassification Report:\")\n",
        "print(classification_report(y_test, y_pred, zero_division=0))\n"
      ],
      "metadata": {
        "colab": {
          "base_uri": "https://localhost:8080/"
        },
        "id": "Iy4wCZyiC2KY",
        "outputId": "c1e9c6f2-965d-4675-f482-d4b3a86aeb18"
      },
      "execution_count": 7,
      "outputs": [
        {
          "output_type": "stream",
          "name": "stdout",
          "text": [
            "\u001b[1m1/1\u001b[0m \u001b[32m━━━━━━━━━━━━━━━━━━━━\u001b[0m\u001b[37m\u001b[0m \u001b[1m0s\u001b[0m 26ms/step - accuracy: 0.0345 - loss: -1180510.3750\n",
            "Test Accuracy: 0.03448275849223137\n",
            "\u001b[1m1/1\u001b[0m \u001b[32m━━━━━━━━━━━━━━━━━━━━\u001b[0m\u001b[37m\u001b[0m \u001b[1m0s\u001b[0m 44ms/step\n",
            "Confusion Matrix:\n",
            "[[ 1  0]\n",
            " [28  0]]\n",
            "\n",
            "Classification Report:\n",
            "              precision    recall  f1-score   support\n",
            "\n",
            "           1       0.03      1.00      0.07         1\n",
            "           2       0.00      0.00      0.00        28\n",
            "\n",
            "    accuracy                           0.03        29\n",
            "   macro avg       0.02      0.50      0.03        29\n",
            "weighted avg       0.00      0.03      0.00        29\n",
            "\n"
          ]
        }
      ]
    },
    {
      "cell_type": "markdown",
      "source": [
        "5. Plot Training and Validation Metrics"
      ],
      "metadata": {
        "id": "D3alyKcJDb_N"
      }
    },
    {
      "cell_type": "code",
      "source": [
        "# Plot training & validation accuracy values\n",
        "plt.plot(history.history['accuracy'])\n",
        "plt.plot(history.history['val_accuracy'])\n",
        "plt.title('Model Accuracy')\n",
        "plt.ylabel('Accuracy')\n",
        "plt.xlabel('Epoch')\n",
        "plt.legend(['Train', 'Validation'], loc='upper left')\n",
        "plt.show()\n"
      ],
      "metadata": {
        "colab": {
          "base_uri": "https://localhost:8080/",
          "height": 472
        },
        "id": "jPyhUyVJDaxH",
        "outputId": "d2abee32-dfe4-45ba-8d2c-b88dffab98c0"
      },
      "execution_count": 8,
      "outputs": [
        {
          "output_type": "display_data",
          "data": {
            "text/plain": [
              "<Figure size 640x480 with 1 Axes>"
            ],
            "image/png": "[encoded data removed]"
          },
          "metadata": {}
        }
      ]
    },
    {
      "cell_type": "code",
      "source": [
        "# Plot training & validation loss values\n",
        "plt.plot(history.history['loss'])\n",
        "plt.plot(history.history['val_loss'])\n",
        "plt.title('Model Loss')\n",
        "plt.ylabel('Loss')\n",
        "plt.xlabel('Epoch')\n",
        "plt.legend(['Train', 'Validation'], loc='upper left')\n",
        "plt.show()\n"
      ],
      "metadata": {
        "colab": {
          "base_uri": "https://localhost:8080/",
          "height": 472
        },
        "id": "nxBKKZNTDpob",
        "outputId": "e6db91b4-66c5-4061-97d3-fd84c0e19549"
      },
      "execution_count": 9,
      "outputs": [
        {
          "output_type": "display_data",
          "data": {
            "text/plain": [
              "<Figure size 640x480 with 1 Axes>"
            ],
            "image/png": "[encoded data removed]"
          },
          "metadata": {}
        }
      ]
    },
    {
      "cell_type": "markdown",
      "source": [
        " 6.Load Saved Models"
      ],
      "metadata": {
        "id": "tW6JXdC9Dss3"
      }
    },
    {
      "cell_type": "code",
      "source": [
        "!wget https://github.com/Husnafazal/alu-machine_learning/raw/main/SSI%20Project/saved_models/simple_nn_model.h5\n",
        "!wget https://github.com/Husnafazal/alu-machine_learning/raw/main/SSI%20Project/saved_models/optimized_nn_model.h5\n",
        "\n",
        "from tensorflow.keras.models import load_model\n",
        "\n",
        "# Load the models\n",
        "loaded_simple_model = load_model('simple_nn_model.h5')\n",
        "loaded_optimized_model = load_model('optimized_nn_model.h5')\n",
        "\n",
        "print(\"Models loaded successfully\")\n",
        "\n",
        "# Compile the models to ensure metrics are built\n",
        "loaded_simple_model.compile(optimizer=Adam(learning_rate=0.001),\n",
        "                             loss='binary_crossentropy',\n",
        "                             metrics=['accuracy'])\n",
        "loaded_optimized_model.compile(optimizer=Adam(learning_rate=0.001),\n",
        "                                loss='binary_crossentropy',\n",
        "                                metrics=['accuracy'])\n",
        "\n"
      ],
      "metadata": {
        "colab": {
          "base_uri": "https://localhost:8080/"
        },
        "id": "zEMK-3YvDzt7",
        "outputId": "7c5f35b1-733a-4ff3-ec7e-3a22be8f1a38"
      },
      "execution_count": 10,
      "outputs": [
        {
          "output_type": "stream",
          "name": "stdout",
          "text": [
            "--2024-10-09 10:26:02--  https://github.com/Husnafazal/alu-machine_learning/raw/main/SSI%20Project/saved_models/simple_nn_model.h5\n",
            "Resolving github.com (github.com)... 140.82.113.4\n",
            "Connecting to github.com (github.com)|140.82.113.4|:443... connected.\n",
            "HTTP request sent, awaiting response... 302 Found\n",
            "Location: https://raw.githubusercontent.com/Husnafazal/alu-machine_learning/main/SSI%20Project/saved_models/simple_nn_model.h5 [following]\n",
            "--2024-10-09 10:26:02--  https://raw.githubusercontent.com/Husnafazal/alu-machine_learning/main/SSI%20Project/saved_models/simple_nn_model.h5\n",
            "Resolving raw.githubusercontent.com (raw.githubusercontent.com)... 185.199.108.133, 185.199.111.133, 185.199.109.133, ...\n",
            "Connecting to raw.githubusercontent.com (raw.githubusercontent.com)|185.199.108.133|:443... connected.\n",
            "HTTP request sent, awaiting response... 200 OK\n",
            "Length: 174048 (170K) [application/octet-stream]\n",
            "Saving to: ‘simple_nn_model.h5’\n",
            "\n",
            "simple_nn_model.h5  100%[===================>] 169.97K  --.-KB/s    in 0.02s   \n",
            "\n",
            "2024-10-09 10:26:03 (7.99 MB/s) - ‘simple_nn_model.h5’ saved [174048/174048]\n",
            "\n",
            "--2024-10-09 10:26:03--  https://github.com/Husnafazal/alu-machine_learning/raw/main/SSI%20Project/saved_models/optimized_nn_model.h5\n",
            "Resolving github.com (github.com)... 140.82.113.3\n",
            "Connecting to github.com (github.com)|140.82.113.3|:443... connected.\n",
            "HTTP request sent, awaiting response... 302 Found\n",
            "Location: https://raw.githubusercontent.com/Husnafazal/alu-machine_learning/main/SSI%20Project/saved_models/optimized_nn_model.h5 [following]\n",
            "--2024-10-09 10:26:03--  https://raw.githubusercontent.com/Husnafazal/alu-machine_learning/main/SSI%20Project/saved_models/optimized_nn_model.h5\n",
            "Resolving raw.githubusercontent.com (raw.githubusercontent.com)... 185.199.108.133, 185.199.111.133, 185.199.109.133, ...\n",
            "Connecting to raw.githubusercontent.com (raw.githubusercontent.com)|185.199.108.133|:443... connected.\n",
            "HTTP request sent, awaiting response... 200 OK\n",
            "Length: 254328 (248K) [application/octet-stream]\n",
            "Saving to: ‘optimized_nn_model.h5’\n",
            "\n",
            "optimized_nn_model. 100%[===================>] 248.37K  --.-KB/s    in 0.02s   \n",
            "\n",
            "2024-10-09 10:26:03 (11.6 MB/s) - ‘optimized_nn_model.h5’ saved [254328/254328]\n",
            "\n"
          ]
        },
        {
          "output_type": "stream",
          "name": "stderr",
          "text": [
            "/usr/local/lib/python3.10/dist-packages/keras/src/layers/core/dense.py:87: UserWarning: Do not pass an `input_shape`/`input_dim` argument to a layer. When using Sequential models, prefer using an `Input(shape)` object as the first layer in the model instead.\n",
            "  super().__init__(activity_regularizer=activity_regularizer, **kwargs)\n",
            "WARNING:absl:Compiled the loaded model, but the compiled metrics have yet to be built. `model.compile_metrics` will be empty until you train or evaluate the model.\n",
            "WARNING:absl:Error in loading the saved optimizer state. As a result, your model is starting with a freshly initialized optimizer.\n",
            "WARNING:absl:Compiled the loaded model, but the compiled metrics have yet to be built. `model.compile_metrics` will be empty until you train or evaluate the model.\n",
            "WARNING:absl:Error in loading the saved optimizer state. As a result, your model is starting with a freshly initialized optimizer.\n"
          ]
        },
        {
          "output_type": "stream",
          "name": "stdout",
          "text": [
            "Models loaded successfully\n"
          ]
        }
      ]
    },
    {
      "cell_type": "markdown",
      "source": [
        "7. Evaluate Loaded Models"
      ],
      "metadata": {
        "id": "dvoT_J13EH73"
      }
    },
    {
      "cell_type": "code",
      "source": [
        "# Evaluate the loaded models on the test data\n",
        "simple_model_accuracy = loaded_simple_model.evaluate(X_test, y_test, verbose=0)\n",
        "optimized_model_accuracy = loaded_optimized_model.evaluate(X_test, y_test, verbose=0)\n",
        "\n",
        "# Print the accuracy of the loaded models\n",
        "print(f\"Loaded Simple Model Accuracy: {simple_model_accuracy[1]}\")\n",
        "print(f\"Loaded Optimized Model Accuracy: {optimized_model_accuracy[1]}\")\n"
      ],
      "metadata": {
        "id": "MJ7G53z_EFae"
      },
      "execution_count": null,
      "outputs": []
    },
    {
      "cell_type": "markdown",
      "source": [
        "8. Hyperparameter Tuning with GridSearchCV"
      ],
      "metadata": {
        "id": "LmSgnPvMEeDW"
      }
    },
    {
      "cell_type": "code",
      "source": [
        "from sklearn.model_selection import GridSearchCV\n",
        "\n",
        "# Define the model\n",
        "logreg = LogisticRegression(max_iter=1000)\n",
        "\n",
        "# Feature selection using RFECV (Recursive Feature Elimination with Cross-Validation)\n",
        "selector = RFECV(estimator=logreg, step=1, cv=5)\n",
        "\n",
        "# Hyperparameters to tune\n",
        "param_grid = {\n",
        "    'logreg__C': [0.01, 0.1, 1, 10, 100],\n",
        "    'logreg__penalty': ['l2'],\n",
        "}\n",
        "\n",
        "# Note: 'logreg__' prefix in param_grid is because of the named step in the pipeline\n",
        "pipeline = Pipeline(steps=[\n",
        "    ('scaler', StandardScaler()),\n",
        "    ('feature_selection', selector),\n",
        "    ('logreg', logreg)\n",
        "])\n",
        "\n",
        "# GridSearchCV for hyperparameter tuning and cross-validation\n",
        "grid_search = GridSearchCV(pipeline, param_grid, cv=5, scoring='accuracy', verbose=1)\n",
        "\n",
        "# Fit the model\n",
        "grid_search.fit(X_train, y_train)\n",
        "\n",
        "print(\"Best parameters:\", grid_search.best_params_)\n",
        "print(\"Best CV score:\", grid_search.best_score_)\n",
        "\n"
      ],
      "metadata": {
        "colab": {
          "base_uri": "https://localhost:8080/"
        },
        "id": "hDutgHfnEQ8q",
        "outputId": "b1ace4f4-967a-4b18-d257-d317b41a4486"
      },
      "execution_count": 14,
      "outputs": [
        {
          "output_type": "stream",
          "name": "stdout",
          "text": [
            "Fitting 5 folds for each of 5 candidates, totalling 25 fits\n"
          ]
        },
        {
          "output_type": "stream",
          "name": "stderr",
          "text": [
            "/usr/local/lib/python3.10/dist-packages/sklearn/model_selection/_split.py:776: UserWarning: The least populated class in y has only 4 members, which is less than n_splits=5.\n",
            "  warnings.warn(\n",
            "/usr/local/lib/python3.10/dist-packages/sklearn/model_selection/_split.py:776: UserWarning: The least populated class in y has only 4 members, which is less than n_splits=5.\n",
            "  warnings.warn(\n",
            "/usr/local/lib/python3.10/dist-packages/sklearn/model_selection/_split.py:776: UserWarning: The least populated class in y has only 3 members, which is less than n_splits=5.\n",
            "  warnings.warn(\n",
            "/usr/local/lib/python3.10/dist-packages/sklearn/model_selection/_split.py:776: UserWarning: The least populated class in y has only 3 members, which is less than n_splits=5.\n",
            "  warnings.warn(\n",
            "/usr/local/lib/python3.10/dist-packages/sklearn/model_selection/_split.py:776: UserWarning: The least populated class in y has only 3 members, which is less than n_splits=5.\n",
            "  warnings.warn(\n",
            "/usr/local/lib/python3.10/dist-packages/sklearn/model_selection/_split.py:776: UserWarning: The least populated class in y has only 3 members, which is less than n_splits=5.\n",
            "  warnings.warn(\n",
            "/usr/local/lib/python3.10/dist-packages/sklearn/model_selection/_split.py:776: UserWarning: The least populated class in y has only 4 members, which is less than n_splits=5.\n",
            "  warnings.warn(\n",
            "/usr/local/lib/python3.10/dist-packages/sklearn/model_selection/_split.py:776: UserWarning: The least populated class in y has only 3 members, which is less than n_splits=5.\n",
            "  warnings.warn(\n",
            "/usr/local/lib/python3.10/dist-packages/sklearn/model_selection/_split.py:776: UserWarning: The least populated class in y has only 3 members, which is less than n_splits=5.\n",
            "  warnings.warn(\n",
            "/usr/local/lib/python3.10/dist-packages/sklearn/model_selection/_split.py:776: UserWarning: The least populated class in y has only 3 members, which is less than n_splits=5.\n",
            "  warnings.warn(\n",
            "/usr/local/lib/python3.10/dist-packages/sklearn/model_selection/_split.py:776: UserWarning: The least populated class in y has only 3 members, which is less than n_splits=5.\n",
            "  warnings.warn(\n",
            "/usr/local/lib/python3.10/dist-packages/sklearn/model_selection/_split.py:776: UserWarning: The least populated class in y has only 4 members, which is less than n_splits=5.\n",
            "  warnings.warn(\n",
            "/usr/local/lib/python3.10/dist-packages/sklearn/model_selection/_split.py:776: UserWarning: The least populated class in y has only 3 members, which is less than n_splits=5.\n",
            "  warnings.warn(\n",
            "/usr/local/lib/python3.10/dist-packages/sklearn/model_selection/_split.py:776: UserWarning: The least populated class in y has only 3 members, which is less than n_splits=5.\n",
            "  warnings.warn(\n",
            "/usr/local/lib/python3.10/dist-packages/sklearn/model_selection/_split.py:776: UserWarning: The least populated class in y has only 3 members, which is less than n_splits=5.\n",
            "  warnings.warn(\n",
            "/usr/local/lib/python3.10/dist-packages/sklearn/model_selection/_split.py:776: UserWarning: The least populated class in y has only 3 members, which is less than n_splits=5.\n",
            "  warnings.warn(\n",
            "/usr/local/lib/python3.10/dist-packages/sklearn/model_selection/_split.py:776: UserWarning: The least populated class in y has only 4 members, which is less than n_splits=5.\n",
            "  warnings.warn(\n",
            "/usr/local/lib/python3.10/dist-packages/sklearn/model_selection/_split.py:776: UserWarning: The least populated class in y has only 3 members, which is less than n_splits=5.\n",
            "  warnings.warn(\n",
            "/usr/local/lib/python3.10/dist-packages/sklearn/model_selection/_split.py:776: UserWarning: The least populated class in y has only 3 members, which is less than n_splits=5.\n",
            "  warnings.warn(\n",
            "/usr/local/lib/python3.10/dist-packages/sklearn/model_selection/_split.py:776: UserWarning: The least populated class in y has only 3 members, which is less than n_splits=5.\n",
            "  warnings.warn(\n",
            "/usr/local/lib/python3.10/dist-packages/sklearn/model_selection/_split.py:776: UserWarning: The least populated class in y has only 3 members, which is less than n_splits=5.\n",
            "  warnings.warn(\n",
            "/usr/local/lib/python3.10/dist-packages/sklearn/model_selection/_split.py:776: UserWarning: The least populated class in y has only 4 members, which is less than n_splits=5.\n",
            "  warnings.warn(\n",
            "/usr/local/lib/python3.10/dist-packages/sklearn/model_selection/_split.py:776: UserWarning: The least populated class in y has only 3 members, which is less than n_splits=5.\n",
            "  warnings.warn(\n",
            "/usr/local/lib/python3.10/dist-packages/sklearn/model_selection/_split.py:776: UserWarning: The least populated class in y has only 3 members, which is less than n_splits=5.\n",
            "  warnings.warn(\n",
            "/usr/local/lib/python3.10/dist-packages/sklearn/model_selection/_split.py:776: UserWarning: The least populated class in y has only 3 members, which is less than n_splits=5.\n",
            "  warnings.warn(\n",
            "/usr/local/lib/python3.10/dist-packages/sklearn/model_selection/_split.py:776: UserWarning: The least populated class in y has only 3 members, which is less than n_splits=5.\n",
            "  warnings.warn(\n",
            "/usr/local/lib/python3.10/dist-packages/sklearn/model_selection/_split.py:776: UserWarning: The least populated class in y has only 4 members, which is less than n_splits=5.\n",
            "  warnings.warn(\n"
          ]
        },
        {
          "output_type": "stream",
          "name": "stdout",
          "text": [
            "Best parameters: {'logreg__C': 0.01, 'logreg__penalty': 'l2'}\n",
            "Best CV score: 0.9652173913043478\n"
          ]
        }
      ]
    },
    {
      "cell_type": "markdown",
      "source": [
        "Predict on the Testing Set"
      ],
      "metadata": {
        "id": "cWOuLcPhFOJ4"
      }
    },
    {
      "cell_type": "code",
      "source": [
        "# Predict on the testing set\n",
        "y_pred = grid_search.predict(X_test)\n",
        "\n",
        "# Evaluate the optimized model\n",
        "accuracy = accuracy_score(y_test, y_pred)\n",
        "conf_matrix = confusion_matrix(y_test, y_pred)\n",
        "report = classification_report(y_test, y_pred)\n",
        "\n",
        "print(f\"Accuracy: {accuracy}\")\n",
        "print(\"Confusion Matrix:\")\n",
        "print(conf_matrix)\n",
        "print(\"Classification Report:\")\n",
        "print(report)\n"
      ],
      "metadata": {
        "colab": {
          "base_uri": "https://localhost:8080/"
        },
        "id": "rfR9RMSkFNGb",
        "outputId": "b1166305-d874-4b4e-c294-c4eadd0aca06"
      },
      "execution_count": 15,
      "outputs": [
        {
          "output_type": "stream",
          "name": "stdout",
          "text": [
            "Accuracy: 0.9655172413793104\n",
            "Confusion Matrix:\n",
            "[[ 0  1]\n",
            " [ 0 28]]\n",
            "Classification Report:\n",
            "              precision    recall  f1-score   support\n",
            "\n",
            "           1       0.00      0.00      0.00         1\n",
            "           2       0.97      1.00      0.98        28\n",
            "\n",
            "    accuracy                           0.97        29\n",
            "   macro avg       0.48      0.50      0.49        29\n",
            "weighted avg       0.93      0.97      0.95        29\n",
            "\n"
          ]
        },
        {
          "output_type": "stream",
          "name": "stderr",
          "text": [
            "/usr/local/lib/python3.10/dist-packages/sklearn/metrics/_classification.py:1531: UndefinedMetricWarning: Precision is ill-defined and being set to 0.0 in labels with no predicted samples. Use `zero_division` parameter to control this behavior.\n",
            "  _warn_prf(average, modifier, f\"{metric.capitalize()} is\", len(result))\n",
            "/usr/local/lib/python3.10/dist-packages/sklearn/metrics/_classification.py:1531: UndefinedMetricWarning: Precision is ill-defined and being set to 0.0 in labels with no predicted samples. Use `zero_division` parameter to control this behavior.\n",
            "  _warn_prf(average, modifier, f\"{metric.capitalize()} is\", len(result))\n",
            "/usr/local/lib/python3.10/dist-packages/sklearn/metrics/_classification.py:1531: UndefinedMetricWarning: Precision is ill-defined and being set to 0.0 in labels with no predicted samples. Use `zero_division` parameter to control this behavior.\n",
            "  _warn_prf(average, modifier, f\"{metric.capitalize()} is\", len(result))\n"
          ]
        }
      ]
    },
    {
      "cell_type": "markdown",
      "source": [],
      "metadata": {
        "id": "5Qv_yzubFNkd"
      }
    },
    {
      "cell_type": "code",
      "source": [
        "pip list\n"
      ],
      "metadata": {
        "colab": {
          "base_uri": "https://localhost:8080/"
        },
        "id": "mlUQzJOwenqi",
        "outputId": "7cfedad3-806a-499d-bb19-df623ee7ec0e"
      },
      "execution_count": 1,
      "outputs": [
        {
          "output_type": "stream",
          "name": "stdout",
          "text": [
            "Package                            Version\n",
            "---------------------------------- -------------------\n",
            "absl-py                            1.4.0\n",
            "accelerate                         0.34.2\n",
            "aiohappyeyeballs                   2.4.3\n",
            "aiohttp                            3.10.8\n",
            "aiosignal                          1.3.1\n",
            "alabaster                          0.7.16\n",
            "albucore                           0.0.16\n",
            "albumentations                     1.4.15\n",
            "altair                             4.2.2\n",
            "annotated-types                    0.7.0\n",
            "anyio                              3.7.1\n",
            "argon2-cffi                        23.1.0\n",
            "argon2-cffi-bindings               21.2.0\n",
            "array_record                       0.5.1\n",
            "arviz                              0.19.0\n",
            "astropy                            6.1.4\n",
            "astropy-iers-data                  0.2024.9.30.0.32.59\n",
            "astunparse                         1.6.3\n",
            "async-timeout                      4.0.3\n",
            "atpublic                           4.1.0\n",
            "attrs                              24.2.0\n",
            "audioread                          3.0.1\n",
            "autograd                           1.7.0\n",
            "babel                              2.16.0\n",
            "backcall                           0.2.0\n",
            "beautifulsoup4                     4.12.3\n",
            "bigframes                          1.21.0\n",
            "bigquery-magics                    0.4.0\n",
            "bleach                             6.1.0\n",
            "blinker                            1.4\n",
            "blis                               0.7.11\n",
            "blosc2                             2.0.0\n",
            "bokeh                              3.4.3\n",
            "Bottleneck                         1.4.0\n",
            "bqplot                             0.12.43\n",
            "branca                             0.8.0\n",
            "build                              1.2.2\n",
            "CacheControl                       0.14.0\n",
            "cachetools                         5.5.0\n",
            "catalogue                          2.0.10\n",
            "certifi                            2024.8.30\n",
            "cffi                               1.17.1\n",
            "chardet                            5.2.0\n",
            "charset-normalizer                 3.3.2\n",
            "chex                               0.1.87\n",
            "clarabel                           0.9.0\n",
            "click                              8.1.7\n",
            "cloudpathlib                       0.19.0\n",
            "cloudpickle                        2.2.1\n",
            "cmake                              3.30.4\n",
            "cmdstanpy                          1.2.4\n",
            "colorcet                           3.1.0\n",
            "colorlover                         0.3.0\n",
            "colour                             0.1.5\n",
            "community                          1.0.0b1\n",
            "confection                         0.1.5\n",
            "cons                               0.4.6\n",
            "contextlib2                        21.6.0\n",
            "contourpy                          1.3.0\n",
            "cryptography                       43.0.1\n",
            "cuda-python                        12.2.1\n",
            "cudf-cu12                          24.6.1\n",
            "cufflinks                          0.17.3\n",
            "cupy-cuda12x                       12.2.0\n",
            "cvxopt                             1.3.2\n",
            "cvxpy                              1.5.3\n",
            "cycler                             0.12.1\n",
            "cymem                              2.0.8\n",
            "Cython                             3.0.11\n",
            "dask                               2024.8.0\n",
            "datascience                        0.17.6\n",
            "db-dtypes                          1.3.0\n",
            "dbus-python                        1.2.18\n",
            "debugpy                            1.6.6\n",
            "decorator                          4.4.2\n",
            "defusedxml                         0.7.1\n",
            "Deprecated                         1.2.14\n",
            "distributed                        2024.8.0\n",
            "distro                             1.7.0\n",
            "dlib                               19.24.2\n",
            "dm-tree                            0.1.8\n",
            "docstring_parser                   0.16\n",
            "docutils                           0.18.1\n",
            "dopamine_rl                        4.0.9\n",
            "duckdb                             1.1.1\n",
            "earthengine-api                    1.0.0\n",
            "easydict                           1.13\n",
            "ecos                               2.0.14\n",
            "editdistance                       0.8.1\n",
            "eerepr                             0.0.4\n",
            "einops                             0.8.0\n",
            "en-core-web-sm                     3.7.1\n",
            "entrypoints                        0.4\n",
            "et-xmlfile                         1.1.0\n",
            "etils                              1.9.4\n",
            "etuples                            0.3.9\n",
            "eval_type_backport                 0.2.0\n",
            "exceptiongroup                     1.2.2\n",
            "fastai                             2.7.17\n",
            "fastcore                           1.7.10\n",
            "fastdownload                       0.0.7\n",
            "fastjsonschema                     2.20.0\n",
            "fastprogress                       1.0.3\n",
            "fastrlock                          0.8.2\n",
            "filelock                           3.16.1\n",
            "firebase-admin                     6.5.0\n",
            "Flask                              2.2.5\n",
            "flatbuffers                        24.3.25\n",
            "flax                               0.8.5\n",
            "folium                             0.17.0\n",
            "fonttools                          4.54.1\n",
            "frozendict                         2.4.4\n",
            "frozenlist                         1.4.1\n",
            "fsspec                             2024.6.1\n",
            "future                             1.0.0\n",
            "gast                               0.6.0\n",
            "gcsfs                              2024.6.1\n",
            "GDAL                               3.6.4\n",
            "gdown                              5.2.0\n",
            "geemap                             0.34.5\n",
            "gensim                             4.3.3\n",
            "geocoder                           1.38.1\n",
            "geographiclib                      2.0\n",
            "geopandas                          1.0.1\n",
            "geopy                              2.4.1\n",
            "gin-config                         0.5.0\n",
            "glob2                              0.7\n",
            "google                             2.0.3\n",
            "google-ai-generativelanguage       0.6.6\n",
            "google-api-core                    2.19.2\n",
            "google-api-python-client           2.137.0\n",
            "google-auth                        2.27.0\n",
            "google-auth-httplib2               0.2.0\n",
            "google-auth-oauthlib               1.2.1\n",
            "google-cloud-aiplatform            1.69.0\n",
            "google-cloud-bigquery              3.25.0\n",
            "google-cloud-bigquery-connection   1.15.5\n",
            "google-cloud-bigquery-storage      2.26.0\n",
            "google-cloud-bigtable              2.26.0\n",
            "google-cloud-core                  2.4.1\n",
            "google-cloud-datastore             2.19.0\n",
            "google-cloud-firestore             2.16.1\n",
            "google-cloud-functions             1.16.5\n",
            "google-cloud-iam                   2.15.2\n",
            "google-cloud-language              2.13.4\n",
            "google-cloud-pubsub                2.25.2\n",
            "google-cloud-resource-manager      1.12.5\n",
            "google-cloud-storage               2.8.0\n",
            "google-cloud-translate             3.15.5\n",
            "google-colab                       1.0.0\n",
            "google-crc32c                      1.6.0\n",
            "google-generativeai                0.7.2\n",
            "google-pasta                       0.2.0\n",
            "google-resumable-media             2.7.2\n",
            "googleapis-common-protos           1.65.0\n",
            "googledrivedownloader              0.4\n",
            "graphviz                           0.20.3\n",
            "greenlet                           3.1.1\n",
            "grpc-google-iam-v1                 0.13.1\n",
            "grpcio                             1.64.1\n",
            "grpcio-status                      1.48.2\n",
            "gspread                            6.0.2\n",
            "gspread-dataframe                  3.3.1\n",
            "gym                                0.25.2\n",
            "gym-notices                        0.0.8\n",
            "h5netcdf                           1.3.0\n",
            "h5py                               3.11.0\n",
            "holidays                           0.57\n",
            "holoviews                          1.19.1\n",
            "html5lib                           1.1\n",
            "httpimport                         1.4.0\n",
            "httplib2                           0.22.0\n",
            "huggingface-hub                    0.24.7\n",
            "humanize                           4.10.0\n",
            "hyperopt                           0.2.7\n",
            "ibis-framework                     9.2.0\n",
            "idna                               3.10\n",
            "imageio                            2.35.1\n",
            "imageio-ffmpeg                     0.5.1\n",
            "imagesize                          1.4.1\n",
            "imbalanced-learn                   0.12.3\n",
            "imgaug                             0.4.0\n",
            "immutabledict                      4.2.0\n",
            "importlib_metadata                 8.4.0\n",
            "importlib_resources                6.4.5\n",
            "imutils                            0.5.4\n",
            "inflect                            7.4.0\n",
            "iniconfig                          2.0.0\n",
            "intel-cmplr-lib-ur                 2024.2.1\n",
            "intel-openmp                       2024.2.1\n",
            "ipyevents                          2.0.2\n",
            "ipyfilechooser                     0.6.0\n",
            "ipykernel                          5.5.6\n",
            "ipyleaflet                         0.19.2\n",
            "ipyparallel                        8.8.0\n",
            "ipython                            7.34.0\n",
            "ipython-genutils                   0.2.0\n",
            "ipython-sql                        0.5.0\n",
            "ipytree                            0.2.2\n",
            "ipywidgets                         7.7.1\n",
            "itsdangerous                       2.2.0\n",
            "jax                                0.4.33\n",
            "jax-cuda12-pjrt                    0.4.33\n",
            "jax-cuda12-plugin                  0.4.33\n",
            "jaxlib                             0.4.33\n",
            "jeepney                            0.7.1\n",
            "jellyfish                          1.1.0\n",
            "jieba                              0.42.1\n",
            "Jinja2                             3.1.4\n",
            "joblib                             1.4.2\n",
            "jsonpickle                         3.3.0\n",
            "jsonschema                         4.23.0\n",
            "jsonschema-specifications          2023.12.1\n",
            "jupyter-client                     6.1.12\n",
            "jupyter-console                    6.1.0\n",
            "jupyter_core                       5.7.2\n",
            "jupyter-leaflet                    0.19.2\n",
            "jupyter-server                     1.24.0\n",
            "jupyterlab_pygments                0.3.0\n",
            "jupyterlab_widgets                 3.0.13\n",
            "kaggle                             1.6.17\n",
            "kagglehub                          0.3.1\n",
            "keras                              3.4.1\n",
            "keyring                            23.5.0\n",
            "kiwisolver                         1.4.7\n",
            "langcodes                          3.4.1\n",
            "language_data                      1.2.0\n",
            "launchpadlib                       1.10.16\n",
            "lazr.restfulclient                 0.14.4\n",
            "lazr.uri                           1.0.6\n",
            "lazy_loader                        0.4\n",
            "libclang                           18.1.1\n",
            "librosa                            0.10.2.post1\n",
            "lightgbm                           4.5.0\n",
            "linkify-it-py                      2.0.3\n",
            "llvmlite                           0.43.0\n",
            "locket                             1.0.0\n",
            "logical-unification                0.4.6\n",
            "lxml                               4.9.4\n",
            "marisa-trie                        1.2.0\n",
            "Markdown                           3.7\n",
            "markdown-it-py                     3.0.0\n",
            "MarkupSafe                         2.1.5\n",
            "matplotlib                         3.7.1\n",
            "matplotlib-inline                  0.1.7\n",
            "matplotlib-venn                    1.1.1\n",
            "mdit-py-plugins                    0.4.2\n",
            "mdurl                              0.1.2\n",
            "miniKanren                         1.0.3\n",
            "missingno                          0.5.2\n",
            "mistune                            0.8.4\n",
            "mizani                             0.11.4\n",
            "mkl                                2024.2.2\n",
            "ml-dtypes                          0.4.1\n",
            "mlxtend                            0.23.1\n",
            "more-itertools                     10.5.0\n",
            "moviepy                            1.0.3\n",
            "mpmath                             1.3.0\n",
            "msgpack                            1.0.8\n",
            "multidict                          6.1.0\n",
            "multipledispatch                   1.0.0\n",
            "multitasking                       0.0.11\n",
            "murmurhash                         1.0.10\n",
            "music21                            9.1.0\n",
            "namex                              0.0.8\n",
            "natsort                            8.4.0\n",
            "nbclassic                          1.1.0\n",
            "nbclient                           0.10.0\n",
            "nbconvert                          6.5.4\n",
            "nbformat                           5.10.4\n",
            "nest-asyncio                       1.6.0\n",
            "networkx                           3.3\n",
            "nibabel                            5.2.1\n",
            "nltk                               3.8.1\n",
            "notebook                           6.5.5\n",
            "notebook_shim                      0.2.4\n",
            "numba                              0.60.0\n",
            "numexpr                            2.10.1\n",
            "numpy                              1.26.4\n",
            "nvidia-cublas-cu12                 12.6.3.3\n",
            "nvidia-cuda-cupti-cu12             12.6.80\n",
            "nvidia-cuda-nvcc-cu12              12.6.77\n",
            "nvidia-cuda-runtime-cu12           12.6.77\n",
            "nvidia-cudnn-cu12                  9.4.0.58\n",
            "nvidia-cufft-cu12                  11.3.0.4\n",
            "nvidia-cusolver-cu12               11.7.1.2\n",
            "nvidia-cusparse-cu12               12.5.4.2\n",
            "nvidia-nccl-cu12                   2.23.4\n",
            "nvidia-nvjitlink-cu12              12.6.77\n",
            "nvtx                               0.2.10\n",
            "oauth2client                       4.1.3\n",
            "oauthlib                           3.2.2\n",
            "opencv-contrib-python              4.10.0.84\n",
            "opencv-python                      4.10.0.84\n",
            "opencv-python-headless             4.10.0.84\n",
            "openpyxl                           3.1.5\n",
            "opentelemetry-api                  1.27.0\n",
            "opentelemetry-sdk                  1.27.0\n",
            "opentelemetry-semantic-conventions 0.48b0\n",
            "opt_einsum                         3.4.0\n",
            "optax                              0.2.3\n",
            "optree                             0.13.0\n",
            "orbax-checkpoint                   0.6.4\n",
            "osqp                               0.6.7.post0\n",
            "packaging                          24.1\n",
            "pandas                             2.2.2\n",
            "pandas-datareader                  0.10.0\n",
            "pandas-gbq                         0.23.2\n",
            "pandas-stubs                       2.2.2.240909\n",
            "pandocfilters                      1.5.1\n",
            "panel                              1.4.5\n",
            "param                              2.1.1\n",
            "parso                              0.8.4\n",
            "parsy                              2.1\n",
            "partd                              1.4.2\n",
            "pathlib                            1.0.1\n",
            "patsy                              0.5.6\n",
            "peewee                             3.17.6\n",
            "pexpect                            4.9.0\n",
            "pickleshare                        0.7.5\n",
            "pillow                             10.4.0\n",
            "pip                                24.1.2\n",
            "pip-tools                          7.4.1\n",
            "platformdirs                       4.3.6\n",
            "plotly                             5.24.1\n",
            "plotnine                           0.13.6\n",
            "pluggy                             1.5.0\n",
            "polars                             1.7.1\n",
            "pooch                              1.8.2\n",
            "portpicker                         1.5.2\n",
            "prefetch_generator                 1.0.3\n",
            "preshed                            3.0.9\n",
            "prettytable                        3.11.0\n",
            "proglog                            0.1.10\n",
            "progressbar2                       4.5.0\n",
            "prometheus_client                  0.21.0\n",
            "promise                            2.3\n",
            "prompt_toolkit                     3.0.48\n",
            "prophet                            1.1.6\n",
            "proto-plus                         1.24.0\n",
            "protobuf                           3.20.3\n",
            "psutil                             5.9.5\n",
            "psycopg2                           2.9.9\n",
            "ptyprocess                         0.7.0\n",
            "py-cpuinfo                         9.0.0\n",
            "py4j                               0.10.9.7\n",
            "pyarrow                            16.1.0\n",
            "pyarrow-hotfix                     0.6\n",
            "pyasn1                             0.6.1\n",
            "pyasn1_modules                     0.4.1\n",
            "pycocotools                        2.0.8\n",
            "pycparser                          2.22\n",
            "pydantic                           2.9.2\n",
            "pydantic_core                      2.23.4\n",
            "pydata-google-auth                 1.8.2\n",
            "pydot                              3.0.2\n",
            "pydot-ng                           2.0.0\n",
            "pydotplus                          2.0.2\n",
            "PyDrive                            1.3.1\n",
            "PyDrive2                           1.20.0\n",
            "pyerfa                             2.0.1.4\n",
            "pygame                             2.6.1\n",
            "Pygments                           2.18.0\n",
            "PyGObject                          3.42.1\n",
            "PyJWT                              2.9.0\n",
            "pymc                               5.16.2\n",
            "pymystem3                          0.2.0\n",
            "pynvjitlink-cu12                   0.3.0\n",
            "pyogrio                            0.10.0\n",
            "PyOpenGL                           3.1.7\n",
            "pyOpenSSL                          24.2.1\n",
            "pyparsing                          3.1.4\n",
            "pyperclip                          1.9.0\n",
            "pyproj                             3.7.0\n",
            "pyproject_hooks                    1.2.0\n",
            "pyshp                              2.3.1\n",
            "PySocks                            1.7.1\n",
            "pytensor                           2.25.5\n",
            "pytest                             7.4.4\n",
            "python-apt                         2.4.0\n",
            "python-box                         7.2.0\n",
            "python-dateutil                    2.8.2\n",
            "python-louvain                     0.16\n",
            "python-slugify                     8.0.4\n",
            "python-utils                       3.9.0\n",
            "pytz                               2024.2\n",
            "pyviz_comms                        3.0.3\n",
            "PyYAML                             6.0.2\n",
            "pyzmq                              24.0.1\n",
            "qdldl                              0.1.7.post4\n",
            "ratelim                            0.1.6\n",
            "referencing                        0.35.1\n",
            "regex                              2024.9.11\n",
            "requests                           2.32.3\n",
            "requests-oauthlib                  1.3.1\n",
            "requirements-parser                0.9.0\n",
            "rich                               13.9.1\n",
            "rmm-cu12                           24.6.0\n",
            "rpds-py                            0.20.0\n",
            "rpy2                               3.4.2\n",
            "rsa                                4.9\n",
            "safetensors                        0.4.5\n",
            "scikit-image                       0.24.0\n",
            "scikit-learn                       1.5.2\n",
            "scipy                              1.13.1\n",
            "scooby                             0.10.0\n",
            "scs                                3.2.7\n",
            "seaborn                            0.13.1\n",
            "SecretStorage                      3.3.1\n",
            "Send2Trash                         1.8.3\n",
            "sentencepiece                      0.2.0\n",
            "setuptools                         71.0.4\n",
            "shapely                            2.0.6\n",
            "shellingham                        1.5.4\n",
            "simple-parsing                     0.1.6\n",
            "six                                1.16.0\n",
            "sklearn-pandas                     2.2.0\n",
            "smart-open                         7.0.4\n",
            "sniffio                            1.3.1\n",
            "snowballstemmer                    2.2.0\n",
            "sortedcontainers                   2.4.0\n",
            "soundfile                          0.12.1\n",
            "soupsieve                          2.6\n",
            "soxr                               0.5.0.post1\n",
            "spacy                              3.7.5\n",
            "spacy-legacy                       3.0.12\n",
            "spacy-loggers                      1.0.5\n",
            "Sphinx                             5.0.2\n",
            "sphinxcontrib-applehelp            2.0.0\n",
            "sphinxcontrib-devhelp              2.0.0\n",
            "sphinxcontrib-htmlhelp             2.1.0\n",
            "sphinxcontrib-jsmath               1.0.1\n",
            "sphinxcontrib-qthelp               2.0.0\n",
            "sphinxcontrib-serializinghtml      2.0.0\n",
            "SQLAlchemy                         2.0.35\n",
            "sqlglot                            25.1.0\n",
            "sqlparse                           0.5.1\n",
            "srsly                              2.4.8\n",
            "stanio                             0.5.1\n",
            "statsmodels                        0.14.4\n",
            "StrEnum                            0.4.15\n",
            "sympy                              1.13.3\n",
            "tables                             3.8.0\n",
            "tabulate                           0.9.0\n",
            "tbb                                2021.13.1\n",
            "tblib                              3.0.0\n",
            "tenacity                           9.0.0\n",
            "tensorboard                        2.17.0\n",
            "tensorboard-data-server            0.7.2\n",
            "tensorflow                         2.17.0\n",
            "tensorflow-datasets                4.9.6\n",
            "tensorflow-hub                     0.16.1\n",
            "tensorflow-io-gcs-filesystem       0.37.1\n",
            "tensorflow-metadata                1.16.0\n",
            "tensorflow-probability             0.24.0\n",
            "tensorstore                        0.1.66\n",
            "termcolor                          2.4.0\n",
            "terminado                          0.18.1\n",
            "text-unidecode                     1.3\n",
            "textblob                           0.17.1\n",
            "tf_keras                           2.17.0\n",
            "tf-slim                            1.1.0\n",
            "thinc                              8.2.5\n",
            "threadpoolctl                      3.5.0\n",
            "tifffile                           2024.9.20\n",
            "tinycss2                           1.3.0\n",
            "tokenizers                         0.19.1\n",
            "toml                               0.10.2\n",
            "tomli                              2.0.2\n",
            "toolz                              0.12.1\n",
            "torch                              2.4.1+cu121\n",
            "torchaudio                         2.4.1+cu121\n",
            "torchsummary                       1.5.1\n",
            "torchvision                        0.19.1+cu121\n",
            "tornado                            6.3.3\n",
            "tqdm                               4.66.5\n",
            "traitlets                          5.7.1\n",
            "traittypes                         0.2.1\n",
            "transformers                       4.44.2\n",
            "tweepy                             4.14.0\n",
            "typeguard                          4.3.0\n",
            "typer                              0.12.5\n",
            "types-pytz                         2024.2.0.20241003\n",
            "types-setuptools                   75.1.0.20240917\n",
            "typing_extensions                  4.12.2\n",
            "tzdata                             2024.2\n",
            "tzlocal                            5.2\n",
            "uc-micro-py                        1.0.3\n",
            "uritemplate                        4.1.1\n",
            "urllib3                            2.2.3\n",
            "vega-datasets                      0.9.0\n",
            "wadllib                            1.3.6\n",
            "wasabi                             1.1.3\n",
            "wcwidth                            0.2.13\n",
            "weasel                             0.4.1\n",
            "webcolors                          24.8.0\n",
            "webencodings                       0.5.1\n",
            "websocket-client                   1.8.0\n",
            "Werkzeug                           3.0.4\n",
            "wheel                              0.44.0\n",
            "widgetsnbextension                 3.6.9\n",
            "wordcloud                          1.9.3\n",
            "wrapt                              1.16.0\n",
            "xarray                             2024.9.0\n",
            "xarray-einstats                    0.8.0\n",
            "xgboost                            2.1.1\n",
            "xlrd                               2.0.1\n",
            "xyzservices                        2024.9.0\n",
            "yarl                               1.13.1\n",
            "yellowbrick                        1.5\n",
            "yfinance                           0.2.44\n",
            "zict                               3.0.0\n",
            "zipp                               3.20.2\n"
          ]
        }
      ]
    },
    {
      "cell_type": "code",
      "source": [],
      "metadata": {
        "id": "rlmpt9uxyt-i"
      },
      "execution_count": null,
      "outputs": []
    }
  ]
}